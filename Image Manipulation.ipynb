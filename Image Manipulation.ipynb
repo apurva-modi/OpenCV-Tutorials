{
 "cells": [
  {
   "cell_type": "markdown",
   "metadata": {},
   "source": [
    "### Image Translation "
   ]
  },
  {
   "cell_type": "code",
   "execution_count": null,
   "metadata": {},
   "outputs": [],
   "source": [
    "import cv2\n",
    "import numpy as np \n",
    "image = cv2.imread('images/input.jpg')\n",
    "\n",
    "#Show height and the width of the image \n",
    "h, w =image.shape[:2]\n",
    "\n",
    "# defining the amount of shift for X and Y axis \n",
    "quater_height, quater_width = h/4, w/4\n",
    "\n",
    "#     | 1 0 Tx |\n",
    "# T = | 0 1 Ty |\n",
    "# T is a tranformation Matrix \n",
    "# Tx and Ty are shifts in the X and Y axis respectively.\n",
    "\n",
    "T = np.float32([[1, 0, quater_height], [0, 1, quater_width]])\n",
    "\n",
    "img_Translation = cv2.warpAffine(image, T , (w,h))\n",
    "cv2.imshow(\"Translation Image\", img_Translation)\n",
    "cv2.waitKey(0)\n",
    "cv2.destroyAllWindows()"
   ]
  },
  {
   "cell_type": "markdown",
   "metadata": {},
   "source": [
    "### Image Rotation \n",
    "> cv2.getRotationMatrix2D( (roation_center_x, roation_center_Y), angle of rotation, scale)"
   ]
  },
  {
   "cell_type": "code",
   "execution_count": null,
   "metadata": {},
   "outputs": [],
   "source": [
    "import cv2\n",
    "import numpy as np \n",
    "image = cv2.imread('images/input.jpg')\n",
    "\n",
    "#Show height and the width of the image \n",
    "h, w =image.shape[:2]\n",
    "\n",
    "rotation_matrix = cv2.getRotationMatrix2D((w/2, h/2), 180, 1)\n",
    "rotated_image = cv2.warpAffine(image, rotation_matrix, (w,h))\n",
    "cv2.imshow(\"Rotated Image\", rotated_image)\n",
    "cv2.waitKey(0)\n",
    "cv2.destroyAllWindows()"
   ]
  },
  {
   "cell_type": "code",
   "execution_count": null,
   "metadata": {},
   "outputs": [],
   "source": [
    "# other option to rotate \n",
    "img = cv2.imread('images/input.jpg')\n",
    "\n",
    "rotated_image =cv2.transpose(img)\n",
    "\n",
    "cv2.imshow(\"Rotated Image\", rotated_image)\n",
    "cv2.waitKey(0)\n",
    "cv2.destroyAllWindows()"
   ]
  },
  {
   "cell_type": "markdown",
   "metadata": {},
   "source": [
    "### Resizing / Scaling \n",
    "> Re-sizing is very easy using the cv2.resize function, it's arguments are:\n",
    ">\n",
    "> OpenCV uses cv2.resize(image, dsize(output image size), x scale, y scale, interpolation)\n",
    ">\n",
    "> ##### Interpolation: It is a method of constructing new data points within the range of discrete set of known data points\n",
    ">\n",
    "> cv2.INTER_AREA - good of shrinking or down sampling. \n",
    ">\n",
    "> cv2.INTER_NEAREST - Fastest.\n",
    ">\n",
    "> cv2.INTER_LINEAR - Good for zooming or up sampling  (default).\n",
    ">\n",
    "> cv2.INTER_CUBIC - BETTER.\n",
    ">\n",
    "> cvc.INTER_LANCZOS4 - Best .\n",
    ">\n",
    "> ##### Example : GPS tracking ( Linear Interpolation ).\n",
    "    "
   ]
  },
  {
   "cell_type": "code",
   "execution_count": null,
   "metadata": {},
   "outputs": [],
   "source": [
    "import cv2\n",
    "import numpy as np\n",
    "\n",
    "# load the input image\n",
    "image = cv2.imread('images/input.jpg')\n",
    "\n",
    "# Let's make the image 3/4 to it's original size\n",
    "image_scaled = cv2.resize(image, None, fx=0.75, fy=0.75) #fx an dfy factors by which we want to scale by \n",
    "\n",
    "cv2.imshow('Scaling - Linear Interpolation', image_scaled) \n",
    "cv2.waitKey()\n",
    "\n",
    "# Let's double the size of the image\n",
    "img_scaled = cv2.resize(image, None, fx=2, fy=2, interpolation = cv2.INTER_CUBIC)\n",
    "cv2.imshow('Scaling - Cubic Interpolation', img_scaled)\n",
    "cv2.waitKey()\n",
    "\n",
    "# Let's skew the re-sizing by setting exact dimensions\n",
    "img_scaled = cv2.resize(image, (900, 400), interpolation = cv2.INTER_AREA)\n",
    "cv2.imshow('Scaling - Skewed Size', img_scaled) \n",
    "cv2.waitKey()\n",
    "\n",
    "cv2.destroyAllWindows()"
   ]
  },
  {
   "cell_type": "markdown",
   "metadata": {},
   "source": [
    "#### Image Pyramids\n",
    "> Useful when scaling Images in Object detection "
   ]
  },
  {
   "cell_type": "code",
   "execution_count": null,
   "metadata": {},
   "outputs": [],
   "source": [
    "import cv2\n",
    "image = cv2.imread('images/input.jpg')\n",
    "\n",
    "\n",
    "smaller = cv2.pyrDown(image)\n",
    "larger = cv2.pyrUp(smaller)\n",
    "# if wanted to display multiple copies of smaller images \n",
    "# run this in a for loop and it will generate smaller and smaller images.\n",
    "\n",
    "cv2.imshow(\"orignal\",image)\n",
    "cv2.imshow(\"Smaller\",smaller)\n",
    "cv2.imshow(\"larger\",larger)\n",
    "cv2.waitKey()\n",
    "\n",
    "cv2.destroyAllWindows()"
   ]
  },
  {
   "cell_type": "code",
   "execution_count": null,
   "metadata": {},
   "outputs": [],
   "source": []
  }
 ],
 "metadata": {
  "kernelspec": {
   "display_name": "Python 3",
   "language": "python",
   "name": "python3"
  },
  "language_info": {
   "codemirror_mode": {
    "name": "ipython",
    "version": 3
   },
   "file_extension": ".py",
   "mimetype": "text/x-python",
   "name": "python",
   "nbconvert_exporter": "python",
   "pygments_lexer": "ipython3",
   "version": "3.6.6"
  }
 },
 "nbformat": 4,
 "nbformat_minor": 2
}
