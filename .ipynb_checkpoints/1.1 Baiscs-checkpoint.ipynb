{
 "cells": [
  {
   "cell_type": "markdown",
   "metadata": {},
   "source": [
    "### Reading, writing and displaying images with OpenCV"
   ]
  },
  {
   "cell_type": "code",
   "execution_count": 1,
   "metadata": {},
   "outputs": [],
   "source": [
    "import cv2 \n",
    "import numpy as np"
   ]
  },
  {
   "cell_type": "code",
   "execution_count": 8,
   "metadata": {},
   "outputs": [],
   "source": [
    "#Load Image using imread\n",
    "input = cv2.imread('images/input.jpg')\n",
    "#to display the image using imshow which takes 2 arguments\n",
    "cv2.imshow('TestImage 1', input)\n",
    "#waitkey waits for you to press any key before continuing \n",
    "cv2.waitKey()\n",
    "#Closes all the windows\n",
    "cv2.destroyAllWindows()\n"
   ]
  },
  {
   "cell_type": "code",
   "execution_count": 9,
   "metadata": {},
   "outputs": [
    {
     "data": {
      "text/plain": [
       "(415, 622, 3)"
      ]
     },
     "execution_count": 9,
     "metadata": {},
     "output_type": "execute_result"
    }
   ],
   "source": [
    "#dimensions of the image using numpy shape function \n",
    "input.shape"
   ]
  },
  {
   "cell_type": "markdown",
   "metadata": {},
   "source": [
    "> Shape gives the dimensions of the image array\n",
    "> - The 2D dimensions are 830 pixels in high bv 1245 pixels wide. The '3L' means that there are 3 other components (RGB) that make up this image"
   ]
  },
  {
   "cell_type": "code",
   "execution_count": null,
   "metadata": {},
   "outputs": [],
   "source": [
    "print(\"Height of the image:\", int(input.shape[0]),\"pixels\")\n",
    "print(\"Width of the image:\", int(input.shape[1]),\"pixels\")\n",
    "print(int(input.shape[2]),\"Represents that there are 3 more Componets in the dimension namely RGB \")"
   ]
  },
  {
   "cell_type": "markdown",
   "metadata": {},
   "source": [
    "### Saving the Image  "
   ]
  },
  {
   "cell_type": "code",
   "execution_count": null,
   "metadata": {},
   "outputs": [],
   "source": [
    "#using imwrite to save the image in the working directory.\n",
    "cv2.imwrite('output.jpg',input)\n",
    "cv2.imwrite('output.png',input)"
   ]
  },
  {
   "cell_type": "markdown",
   "metadata": {},
   "source": [
    "### OpenCV's RGB is that it's BGR"
   ]
  },
  {
   "cell_type": "code",
   "execution_count": null,
   "metadata": {},
   "outputs": [],
   "source": [
    "# BGR values for the first 0,0 pixel\n",
    "print(input.shape)\n",
    "B,G,R = input[0,0]\n",
    "print(R, G, R)"
   ]
  },
  {
   "cell_type": "markdown",
   "metadata": {},
   "source": [
    "### Converting color image to greyscale"
   ]
  },
  {
   "cell_type": "code",
   "execution_count": null,
   "metadata": {},
   "outputs": [],
   "source": [
    "#Grey Scale \n",
    "gray_scale = cv2.cvtColor(input,cv2.COLOR_BGR2GRAY)\n",
    "print(gray_scale.shape)\n",
    "print(gray_scale[0,0])"
   ]
  },
  {
   "cell_type": "markdown",
   "metadata": {},
   "source": [
    "### Another useful color space is HSV \n",
    "Infact HSV is very useful in color filtering."
   ]
  },
  {
   "cell_type": "code",
   "execution_count": 4,
   "metadata": {},
   "outputs": [],
   "source": [
    "# Color Space im HSV \n",
    "hsv_image = cv2.cvtColor(input,cv2.COLOR_BGR2HSV)\n",
    "cv2.imshow('HSV IMAGE',hsv_image)\n",
    "cv2.imshow('HUE CHANNEL',hsv_image[:, :,0]) #Hue Channel only goes from 0 to 180 \n",
    "cv2.imshow('Saturation CHANNEL',hsv_image[:, :, 1])\n",
    "cv2.imshow('VALUE/INTENSITY CHANNEL',hsv_image[:, :, 2]) #Usually looks like a gray scale image mostly \n",
    "cv2.waitKey(0)\n",
    "cv2.destroyAllWindows()"
   ]
  },
  {
   "cell_type": "markdown",
   "metadata": {},
   "source": [
    "### individual channels in an RGB image"
   ]
  },
  {
   "cell_type": "code",
   "execution_count": 4,
   "metadata": {},
   "outputs": [
    {
     "name": "stdout",
     "output_type": "stream",
     "text": [
      "(415, 622)\n"
     ]
    }
   ],
   "source": [
    "# Using open CV split function to split the image  \n",
    "image = cv2.imread('./images/input.jpg')\n",
    "B, G, R = cv2.split(image)\n",
    "print(B.shape)\n",
    "cv2.imshow(\"Red\" ,R)\n",
    "cv2.imshow(\"Green\", G)\n",
    "cv2.imshow(\"Blue\", B)\n",
    "cv2.waitKey(0)\n",
    "cv2.destroyAllWindows()\n",
    "\n",
    "# Using merge to remake the orignal image\n",
    "merged = cv2.merge([B, G, R]) \n",
    "cv2.imshow(\"Merged Image\", merged)\n",
    "\n",
    "# amplifying the blue color in the image\n",
    "\n",
    "merged = cv2.merge([B+ 100, G, R]) \n",
    "cv2.imshow(\"Amplyfied Blue color in Image\", merged)\n",
    "cv2.waitKey(0)\n",
    "cv2.destroyAllWindows()\n"
   ]
  },
  {
   "cell_type": "code",
   "execution_count": 7,
   "metadata": {},
   "outputs": [],
   "source": [
    "# Using numpy and Zeros matrix to show the split function \n",
    "image = cv2.imread('./images/input.jpg')\n",
    "B, G, R = cv2.split(image)\n",
    "\n",
    "# creating a matrix of zeros \n",
    "#we are creating an array matrix of zeros which are of same shape as orignal image \n",
    "zeros = np.zeros(image.shape[:2], dtype= \"uint8\")\n",
    "\n",
    "cv2.imshow(\"Red\", cv2.merge([zeros,zeros,R]))\n",
    "cv2.imshow(\"Green\", cv2.merge([zeros,G,zeros]))\n",
    "cv2.imshow(\"Blue\", cv2.merge([B,zeros,zeros]))\n",
    "\n",
    "cv2.waitKey(0)\n",
    "cv2.destroyAllWindows()\n"
   ]
  },
  {
   "cell_type": "markdown",
   "metadata": {},
   "source": [
    "#### A list of color converisons here, but keep in mind you won't ever use or need many of these\n",
    "\n",
    "http://docs.opencv.org/trunk/d7/d1b/group__imgproc__misc.html#ga4e0972be5de079fed4e3a10e24ef5ef0"
   ]
  }
 ],
 "metadata": {
  "kernelspec": {
   "display_name": "Python 3",
   "language": "python",
   "name": "python3"
  },
  "language_info": {
   "codemirror_mode": {
    "name": "ipython",
    "version": 3
   },
   "file_extension": ".py",
   "mimetype": "text/x-python",
   "name": "python",
   "nbconvert_exporter": "python",
   "pygments_lexer": "ipython3",
   "version": "3.6.6"
  }
 },
 "nbformat": 4,
 "nbformat_minor": 2
}
