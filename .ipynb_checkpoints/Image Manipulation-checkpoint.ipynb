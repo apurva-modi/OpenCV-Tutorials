{
 "cells": [
  {
   "cell_type": "markdown",
   "metadata": {},
   "source": [
    "### Image Translation "
   ]
  },
  {
   "cell_type": "code",
   "execution_count": 8,
   "metadata": {},
   "outputs": [],
   "source": [
    "import cv2\n",
    "import numpy as np \n",
    "image = cv2.imread('images/input.jpg')\n",
    "\n",
    "#Show height and the width of the image \n",
    "h, w =image.shape[:2]\n",
    "\n",
    "# defining the amount of shift for X and Y axis \n",
    "quater_height, quater_width = h/4, w/4\n",
    "\n",
    "#     | 1 0 Tx |\n",
    "# T = | 0 1 Ty |\n",
    "# T is a tranformation Matrix \n",
    "# Tx and Ty are shifts in the X and Y axis respectively.\n",
    "\n",
    "T = np.float32([[1, 0, quater_height], [0, 1, quater_width]])\n",
    "\n",
    "img_Translation = cv2.warpAffine(image, T , (w,h))\n",
    "cv2.imshow(\"Translation Image\", img_Translation)\n",
    "cv2.waitKey(0)\n",
    "cv2.destroyAllWindows()"
   ]
  },
  {
   "cell_type": "markdown",
   "metadata": {},
   "source": [
    "### Image Rotation \n",
    "> cv2.getRotationMatrix2D( (roation_center_x, roation_center_Y), angle of rotation, scale)"
   ]
  },
  {
   "cell_type": "code",
   "execution_count": 17,
   "metadata": {},
   "outputs": [],
   "source": [
    "import cv2\n",
    "import numpy as np \n",
    "image = cv2.imread('images/input.jpg')\n",
    "\n",
    "#Show height and the width of the image \n",
    "h, w =image.shape[:2]\n",
    "\n",
    "rotation_matrix = cv2.getRotationMatrix2D((w/2, h/2), 180, 1)\n",
    "rotated_image = cv2.warpAffine(image, rotation_matrix, (w,h))\n",
    "cv2.imshow(\"Rotated Image\", rotated_image)\n",
    "cv2.waitKey(0)\n",
    "cv2.destroyAllWindows()"
   ]
  },
  {
   "cell_type": "code",
   "execution_count": 18,
   "metadata": {},
   "outputs": [],
   "source": [
    "# other option to rotate \n",
    "img = cv2.imread('images/input.jpg')\n",
    "\n",
    "rotated_image =cv2.transpose(img)\n",
    "\n",
    "cv2.imshow(\"Rotated Image\", rotated_image)\n",
    "cv2.waitKey(0)\n",
    "cv2.destroyAllWindows()"
   ]
  },
  {
   "cell_type": "code",
   "execution_count": null,
   "metadata": {},
   "outputs": [],
   "source": []
  }
 ],
 "metadata": {
  "kernelspec": {
   "display_name": "Python 3",
   "language": "python",
   "name": "python3"
  },
  "language_info": {
   "codemirror_mode": {
    "name": "ipython",
    "version": 3
   },
   "file_extension": ".py",
   "mimetype": "text/x-python",
   "name": "python",
   "nbconvert_exporter": "python",
   "pygments_lexer": "ipython3",
   "version": "3.6.6"
  }
 },
 "nbformat": 4,
 "nbformat_minor": 2
}
